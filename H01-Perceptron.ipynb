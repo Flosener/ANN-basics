{
 "cells": [
  {
   "cell_type": "markdown",
   "metadata": {
    "colab_type": "text",
    "id": "Z9h5i-XWoYED"
   },
   "source": [
    "# Homework 02 - Perceptron and MLP\n",
    "\n",
    "\n",
    "### Perceptron\n",
    "* Implement perceptron in NumPy.\n",
    "* Train it on AND, XOR gate.\n",
    "* Visualize the training progress.\n",
    "\n",
    "\n",
    "### MLP\n",
    "* Answer basic questions about a simple MLP.\n",
    "* Assign variable names to parts of the MLP.\n",
    "* Perform a forward step by hand."
   ]
  },
  {
   "cell_type": "markdown",
   "metadata": {
    "colab_type": "text",
    "id": "4_FlvAg-oYEF"
   },
   "source": [
    "## 1. Perceptron"
   ]
  },
  {
   "cell_type": "code",
   "execution_count": 1,
   "metadata": {
    "colab": {},
    "colab_type": "code",
    "id": "9tDEcYT2oYEI"
   },
   "outputs": [],
   "source": [
    "import numpy as np"
   ]
  },
  {
   "cell_type": "code",
   "execution_count": 2,
   "metadata": {
    "colab": {},
    "colab_type": "code",
    "id": "wgeSL0VzoYEN"
   },
   "outputs": [],
   "source": [
    "# To make sure that you get the implementation right let us first have a look at the data structure.\n",
    "# These are the four possible input pairs of (x1,x2).\n",
    "x = np.array([[0,0],[0,1],[1,0],[1,1]])\n",
    "# These are possible labels form some logical gates.\n",
    "t_and = np.array([0,0,0,1])\n",
    "t_or = np.array([0,1,1,1])\n",
    "t_nand = np.array([1,1,1,0])\n",
    "t_nor = np.array([1,0,0,0])\n",
    "t_xor = np.array([0,1,1,0])"
   ]
  },
  {
   "cell_type": "markdown",
   "metadata": {
    "colab_type": "text",
    "id": "Q8Al6CwpoYEP"
   },
   "source": [
    "#### Implement Perceptron."
   ]
  },
  {
   "cell_type": "code",
   "execution_count": 3,
   "metadata": {
    "colab": {},
    "colab_type": "code",
    "id": "6AOZx7JHoYEQ"
   },
   "outputs": [],
   "source": [
    "# To make you familiar with classes we will implement the perceptron as a class.\n",
    "# Check https://docs.python.org/3/tutorial/classes.html if you need basic help with python classes.\n",
    "\n",
    "class Perceptron:\n",
    "    \n",
    "    def __init__(self, input_units):\n",
    "        self.input_units = input_units\n",
    "        ### YOUR CODE HERE ###\n",
    "        # 1. Initialize random weights and a random bias term. Check 'np.random.randn()'.\n",
    "        self.weights = np.random.randn(1,self.input_units)\n",
    "        self.bias = np.random.randn()\n",
    "        # 2. Define the learning rate as 0.01.\n",
    "        self.alpha = 0.01\n",
    "        ######################\n",
    "        \n",
    "    def forward_step(self, data):\n",
    "        ### YOUR CODE HERE ###\n",
    "        # Perform a perceptron forward step.\n",
    "        # 1. Calculate the drive. Check the meaning of '@' in NumPy.\n",
    "        # We calculate the drive by matrix multiplication between the inputs weights and our data (inputs from x) plus bias\n",
    "        self.drive = self.weights @ data.reshape(2,1) + self.bias\n",
    "        # 2. Return a 1 or a 0, depending on whether the perceptron surpassed the threshold.\n",
    "        # You can use 'int(...)' to make an integer out of a boolean.\n",
    "        if self.drive >= 0:\n",
    "          return 1\n",
    "        else:\n",
    "          return 0\n",
    "        ######################\n",
    "        \n",
    "    def training_step(self, data, label):\n",
    "        ### YOUR CODE HERE ###\n",
    "        # Perform a whole training step (including the forward step).\n",
    "        # 1. Forward step.\n",
    "        y = self.forward_step(data)\n",
    "        # 2. Calculate the weight updates.\n",
    "        weights_delta = self.alpha * (label - y) * data\n",
    "        # 3. Calculate the bias update. (If you are unsure have a look at slide 14. What is the input to the bias weight?)\n",
    "        bias_delta = self.alpha * (label - y) * 1\n",
    "        # 4. Update weights and bias.\n",
    "        self.weights += weights_delta\n",
    "        self.bias += bias_delta\n",
    "        #######################    "
   ]
  },
  {
   "cell_type": "markdown",
   "metadata": {
    "colab_type": "text",
    "id": "svM6Og4MoYET"
   },
   "source": [
    "#### Train on AND gate."
   ]
  },
  {
   "cell_type": "code",
   "execution_count": 4,
   "metadata": {
    "colab": {},
    "colab_type": "code",
    "id": "7_QUAOzIoYEV"
   },
   "outputs": [],
   "source": [
    "# Now let's train the perceptron.\n",
    "\n",
    "# Choose which target you want to train on.\n",
    "t = t_and\n",
    "# Initialize a perceptron.\n",
    "perceptron = Perceptron(2)\n",
    "# Initialize lists to store steps and performance.\n",
    "steps = []\n",
    "accuracies = []\n",
    "\n",
    "# We train for 500 steps.\n",
    "for i in range(500):\n",
    "    steps.append(i)\n",
    "    \n",
    "    ### YOUR CODE HERE ###\n",
    "    # 1. Draw a random sample from x and the corresponding t. Check 'np.random.randint'.\n",
    "    randint = np.random.randint(0,4)\n",
    "    random_sample = x[randint]\n",
    "    corresponding_target = t[randint]\n",
    "    # 2. Perform a training step.\n",
    "    perceptron.training_step(random_sample, corresponding_target)\n",
    "    ######################\n",
    "    \n",
    "    # Calculate the performance over all four possible inputs.\n",
    "    accuracy_sum = 0\n",
    "    for k in range(4):\n",
    "        output = perceptron.forward_step(x[k])\n",
    "        accuracy_sum += int(output == t[k])\n",
    "    accuracy = accuracy_sum/4\n",
    "    accuracies.append(accuracy)"
   ]
  },
  {
   "cell_type": "markdown",
   "metadata": {
    "colab_type": "text",
    "id": "ZYhtHPpAoYEZ"
   },
   "source": [
    "#### Visualize training progress."
   ]
  },
  {
   "cell_type": "code",
   "execution_count": 5,
   "metadata": {
    "colab": {
     "base_uri": "https://localhost:8080/",
     "height": 283
    },
    "colab_type": "code",
    "id": "5BEU_LYgoYEb",
    "outputId": "ca1c8b5c-57ee-441f-ae23-5ae61428b879"
   },
   "outputs": [
    {
     "data": {
      "image/png": "[encoded data removed]",
      "text/plain": [
       "<Figure size 640x480 with 1 Axes>"
      ]
     },
     "metadata": {},
     "output_type": "display_data"
    }
   ],
   "source": [
    "# Lastly let's plot the training progress.\n",
    "import matplotlib.pyplot as plt\n",
    "plt.figure()\n",
    "plt.plot(steps, accuracies)\n",
    "plt.xlabel(\"Training Steps\")\n",
    "plt.ylabel(\"Accuracy\")\n",
    "plt.ylim([-0.1, 1.2])\n",
    "plt.show()"
   ]
  },
  {
   "cell_type": "markdown",
   "metadata": {
    "colab_type": "text",
    "id": "eWnrT893oYEe"
   },
   "source": [
    "#### Train on XOR gate."
   ]
  },
  {
   "cell_type": "code",
   "execution_count": 6,
   "metadata": {
    "colab": {},
    "colab_type": "code",
    "id": "du5m0JCOoYEf"
   },
   "outputs": [],
   "source": [
    "### YOUR CODE HERE ###\n",
    "# Choose which target you want to train on.\n",
    "t = t_xor\n",
    "# Initialize a perceptron.\n",
    "perceptron_xor = Perceptron(2)\n",
    "# Initialize lists to store steps and performance.\n",
    "steps_2 = []\n",
    "accuracies_2 = []\n",
    "\n",
    "# We train for 500 steps.\n",
    "for j in range(500):\n",
    "    steps_2.append(j)\n",
    "    \n",
    "    ### YOUR CODE HERE ###\n",
    "    # 1. Draw a random sample from x and the corresponding t. Check 'np.random.randint'.\n",
    "    randint = np.random.randint(0,4)\n",
    "    random_sample = x[randint]\n",
    "    corresponding_target = t[randint]\n",
    "    # 2. Perform a training step.\n",
    "    perceptron_xor.training_step(random_sample, corresponding_target)\n",
    "    ######################\n",
    "    \n",
    "    # Calculate the performance over all four possible inputs.\n",
    "    accuracy_sum = 0\n",
    "    for k in range(4):\n",
    "        output = perceptron.forward_step(x[k])\n",
    "        accuracy_sum += int(output == t[k])\n",
    "    accuracy = accuracy_sum/4\n",
    "    accuracies_2.append(accuracy)"
   ]
  },
  {
   "cell_type": "markdown",
   "metadata": {
    "colab_type": "text",
    "id": "ZIv9T6n6oYEi"
   },
   "source": [
    "#### Visualize training progress."
   ]
  },
  {
   "cell_type": "code",
   "execution_count": 7,
   "metadata": {
    "colab": {
     "base_uri": "https://localhost:8080/",
     "height": 283
    },
    "colab_type": "code",
    "id": "-6i4N7gIoYEj",
    "outputId": "10c00286-a160-41ba-8988-9909bbb28dd9"
   },
   "outputs": [
    {
     "data": {
      "image/png": "[encoded data removed]",
      "text/plain": [
       "<Figure size 640x480 with 1 Axes>"
      ]
     },
     "metadata": {},
     "output_type": "display_data"
    }
   ],
   "source": [
    "### YOUR CODE HERE ###\n",
    "plt.figure()\n",
    "plt.plot(steps_2, accuracies_2)\n",
    "plt.xlabel(\"Training Steps\")\n",
    "plt.ylabel(\"Accuracy\")\n",
    "plt.ylim([-0.1, 1.2])\n",
    "plt.show()"
   ]
  },
  {
   "cell_type": "markdown",
   "metadata": {
    "colab_type": "text",
    "id": "YHXn2vENoYEn"
   },
   "source": [
    "## 2. MLP"
   ]
  },
  {
   "cell_type": "markdown",
   "metadata": {
    "colab_type": "text",
    "id": "KhB4mj58oYEp"
   },
   "source": [
    "**Consider the following multi-layer perceptron:**  \n",
    "\n",
    "![MLP](https://raw.githubusercontent.com/lukeeffenberger/IANNWTF-2019/master/homework-figures/mlp.png)  \n",
    "**Please start by answering the following simple questions**"
   ]
  },
  {
   "cell_type": "markdown",
   "metadata": {
    "colab_type": "text",
    "id": "JVPmeRl5oYEr"
   },
   "source": [
    "**Q**: *How many hidden layers does this MLP have?*  \n",
    "**A**: 1\n",
    "\n",
    "**Q**: *How many layers does this MLP have?*    \n",
    "**A**: 2\n",
    "\n",
    "**Q**: *Out of how many perceptrons is this network built?*  \n",
    "**A**: 3\n",
    "\n",
    "**Q**: *How many input, hidden and output neurons does this network have?*   \n",
    "**A**: 2 input neurons, 2 hidden neurons and 1 output neuron"
   ]
  },
  {
   "cell_type": "markdown",
   "metadata": {
    "colab_type": "text",
    "id": "1aaI0szwoYEt"
   },
   "source": [
    "**Given an input** $\\vec{x} \\in \\mathbb{R}^2$ **the network function is defined as:**\n",
    "\n",
    "$$y = (\\vec{w}^{(2)}(W^{(1)} \\vec{x})^2)^2 \\hspace{325pt}$$\n",
    "\n",
    "**where**\n",
    "$$W^{(1)} = \\begin{pmatrix} 3 & 1 \\\\ -1 & 2 \\end{pmatrix}, \\vec{w}^{(2)} = \\begin{pmatrix} -1 \\\\ 1 \\end{pmatrix}. \\hspace{325pt}$$"
   ]
  },
  {
   "cell_type": "markdown",
   "metadata": {
    "colab_type": "text",
    "id": "ptiPFM91oYEu"
   },
   "source": [
    "**Q**: *What is the activation function* $\\sigma$ *in this MLP?*  \n",
    "**A**: $\\sigma = x^2$\n"
   ]
  },
  {
   "cell_type": "markdown",
   "metadata": {
    "colab_type": "text",
    "id": "JUzbd-kfoYEv"
   },
   "source": [
    "**Now given the input**\n",
    "\n",
    "$$\\vec{x} = \\begin{pmatrix} 2 \\\\ -1 \\end{pmatrix} \\hspace{400pt}$$\n",
    "\n",
    "**compute the forward step. Given the drawing from above,**  \n",
    "**the input and the network function assign to each number the**   \n",
    "**correct variable name (e.g.** $x_1$**) and the correct value that this**  \n",
    "**variable has in this forward step.**"
   ]
  },
  {
   "cell_type": "markdown",
   "metadata": {
    "colab_type": "text",
    "id": "xa87uHsDoYEv"
   },
   "source": [
    "| Number |        Variable      | Value |\n",
    "|:------:|:--------------------:|:-----:|\n",
    "|   1    |    $x_1$             |   2   |\n",
    "|   2    |    $x_2$             |  -1   |\n",
    "|   3    |    $w_{11}^{(1)}$    |   3   |\n",
    "|   4    |    $w_{21}^{(1)}$    |  -1   |\n",
    "|   5    |    $w_{12}^{(1)}$    |   1   |\n",
    "|   6    |    $w_{22}^{(1)}$    |   2   |\n",
    "|   7    |    $d_{1}^{(1)}$     |   5   |\n",
    "|   8    |    $d_{2}^{(1)}$     |  -4   |\n",
    "|   9    |    $a_{1}^{(1)}$     |  25   |\n",
    "|  10    |    $a_{2}^{(1)}$     |  16   |\n",
    "|  11    |    $w_{11}^{(2)}$    |  -1   |\n",
    "|  12    |    $w_{12}^{(2)}$    |   1   |\n",
    "|  13    |    $d_{1}^{(2)}$     |  -9   |\n",
    "|  14    |    $y$               |  81   |\n"
   ]
  }
 ],
 "metadata": {
  "colab": {
   "collapsed_sections": [],
   "name": "G08_H02_{done}.ipynb",
   "provenance": []
  },
  "kernelspec": {
   "display_name": "Python 3 (ipykernel)",
   "language": "python",
   "name": "python3"
  },
  "language_info": {
   "codemirror_mode": {
    "name": "ipython",
    "version": 3
   },
   "file_extension": ".py",
   "mimetype": "text/x-python",
   "name": "python",
   "nbconvert_exporter": "python",
   "pygments_lexer": "ipython3",
   "version": "3.11.4"
  }
 },
 "nbformat": 4,
 "nbformat_minor": 4
}
