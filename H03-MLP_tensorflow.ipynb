{
 "cells": [
  {
   "cell_type": "markdown",
   "metadata": {
    "colab_type": "text",
    "id": "2wQ5c8reYiJ7"
   },
   "source": [
    "# Homework 04 - TensorFlow\n",
    "\n",
    "In this homework you will practice what you learned about TensorFlow. You will implement the same network as in the last homework. But instead of using NumPy you will use TensorFlow."
   ]
  },
  {
   "cell_type": "code",
   "execution_count": 1,
   "metadata": {
    "colab": {},
    "colab_type": "code",
    "id": "k477M7SqYiJ-"
   },
   "outputs": [],
   "source": [
    "import numpy as np\n",
    "import tensorflow as tf"
   ]
  },
  {
   "cell_type": "markdown",
   "metadata": {
    "colab_type": "text",
    "id": "lL2bA4W3YiKB"
   },
   "source": [
    "### Build the dataset."
   ]
  },
  {
   "cell_type": "code",
   "execution_count": 2,
   "metadata": {
    "colab": {},
    "colab_type": "code",
    "id": "z3L8h2_zYiKC"
   },
   "outputs": [],
   "source": [
    "x = np.array([[0,0],[0,1],[1,0],[1,1]], dtype=np.float32)\n",
    "t = np.array([0,1,1,0], dtype=np.float32)\n",
    "train_dataset = tf.data.Dataset.from_tensor_slices((x,t))"
   ]
  },
  {
   "cell_type": "markdown",
   "metadata": {
    "colab_type": "text",
    "id": "s_z6kGE_YiKE"
   },
   "source": [
    "### The model."
   ]
  },
  {
   "cell_type": "markdown",
   "metadata": {
    "colab_type": "text",
    "id": "nAzLl9VCYiKF"
   },
   "source": [
    "We will build the following model\n",
    "\n",
    "![model](https://raw.githubusercontent.com/lukeeffenberger/IANNWTF-2019/master/homework-figures/mlp_xor.png)\n",
    "\n",
    "The activation function for **all** neurons is the logistic function\n",
    "\n",
    "$$ \\sigma(x) = \\frac{1}{1+e^{-x}}. $$\n",
    "\n",
    "You can reuse many parts from the notebook from the TensorFlow lecture.\n",
    "\n",
    "When building the model make sure to do the following:\n",
    "* initialize the weights with a random normal distribution with mean 0.0 and standard deviation 0.5\n",
    "* initialize the biases with a random normal distribution with mean 0.0 and standard deviation 0.05 \n",
    "\n",
    "Check 'tf.random_normal_initializer()'.\n"
   ]
  },
  {
   "cell_type": "markdown",
   "metadata": {
    "colab_type": "text",
    "id": "XOY8-OTgYiKG"
   },
   "source": [
    "### Implement the model."
   ]
  },
  {
   "cell_type": "code",
   "execution_count": 3,
   "metadata": {
    "colab": {},
    "colab_type": "code",
    "id": "UJQKLiVKYiKH"
   },
   "outputs": [],
   "source": [
    "from tensorflow.keras.layers import Layer\n",
    "\n",
    "### YOUR CODE HERE ###\n",
    "# Implementing the class for a linear layer.\n",
    "class Linear(Layer):\n",
    "    \"\"\"y = w.x + b\"\"\"\n",
    "    \n",
    "    # Initializing the super class \"Layer\" and specifying the parameters.\n",
    "    def __init__(self, units):\n",
    "        super(Linear, self).__init__()\n",
    "        # Linear layer takes output neurons as argument.\n",
    "        self.units = units\n",
    "        \n",
    "    # Defining weight matrix and bias vector for the layer.\n",
    "    def build(self, input_shape):\n",
    "        self.w = self.add_weight(\n",
    "                        shape=(input_shape[-1], self.units),\n",
    "                        initializer=tf.random_normal_initializer(mean=0, stddev=0.5),\n",
    "                        trainable=True\n",
    "        )\n",
    "        self.b = self.add_weight(\n",
    "                        shape=([self.units]),\n",
    "                        initializer=tf.random_normal_initializer(mean=0, stddev=0.05),\n",
    "                        trainable=True\n",
    "        )\n",
    "     \n",
    "    # Call function used to define our return.\n",
    "    def call(self, inputs):\n",
    "      return tf.matmul(inputs, self.w) + self.b\n",
    "\n",
    "######################"
   ]
  },
  {
   "cell_type": "code",
   "execution_count": 4,
   "metadata": {
    "colab": {},
    "colab_type": "code",
    "id": "JzEqVlQgYiKJ"
   },
   "outputs": [],
   "source": [
    "### YOUR CODE HERE ###\n",
    "# Implement the class for the MLP.\n",
    "# Check 'tf.math.sigmoid()' for the activation function.\n",
    "class MLP(Layer):\n",
    "    \n",
    "    def __init__(self):\n",
    "        super(MLP, self).__init__()\n",
    "        # Instantiating our layers; one with 4 neurons (hidden layer) \n",
    "        # and one with one neuron (output layer).\n",
    "        self.hidden_layer = Linear(4)\n",
    "        self.output_layer = Linear(1)\n",
    "        \n",
    "    # Call function used to define our return for a forward step.\n",
    "    def call(self, x):\n",
    "        x = self.hidden_layer(x)\n",
    "        x = tf.math.sigmoid(x)\n",
    "        x = self.output_layer(x)\n",
    "        x = tf.math.sigmoid(x)\n",
    "        return x\n",
    "######################"
   ]
  },
  {
   "cell_type": "markdown",
   "metadata": {
    "colab_type": "text",
    "id": "fhapbuHUYiKM"
   },
   "source": [
    "### Train the model."
   ]
  },
  {
   "cell_type": "markdown",
   "metadata": {
    "colab_type": "text",
    "id": "VG_2idN0YiKN"
   },
   "source": [
    "Now that the model is built we train the network. Again you can reuse parts from the lecture. Note that we do not use any test data here, because there are only four data points.\n",
    "\n",
    "Make sure you do the following:\n",
    "* Use mean squared error as loss function.\n",
    "* Use the SGD optimizer with learning rate 1.\n",
    "* Train for 500 epochs.\n",
    "* For each epoch calculate the loss and accuracy and store it in a list. Note that there are no test data.\n",
    "\n",
    "If your model is not able to achieve 100% accuracy try and run it again. Sometimes you just have bad luck with initialization."
   ]
  },
  {
   "cell_type": "code",
   "execution_count": 5,
   "metadata": {
    "colab": {},
    "colab_type": "code",
    "id": "qA2ZykfzYiKP"
   },
   "outputs": [
    {
     "name": "stdout",
     "output_type": "stream",
     "text": [
      "Epoch 100/500, Loss: 1.1419072151184082, Accuracy: 0.5\n",
      "Epoch 200/500, Loss: 0.8357043266296387, Accuracy: 0.75\n",
      "Epoch 300/500, Loss: 0.5330669283866882, Accuracy: 0.75\n",
      "Epoch 400/500, Loss: 0.05721330642700195, Accuracy: 1.0\n",
      "Epoch 500/500, Loss: 0.02264593169093132, Accuracy: 1.0\n"
     ]
    }
   ],
   "source": [
    "# Clearing the session.\n",
    "tf.keras.backend.clear_session()\n",
    "\n",
    "### YOUR CODE HERE ###\n",
    "# Defining MSE as our loss function.\n",
    "mse = tf.keras.losses.MeanSquaredError()\n",
    "# SGD optimizer with learning rate 1.\n",
    "optimizer = tf.keras.optimizers.SGD(learning_rate=1)\n",
    "# Here we define some lists to store the training progress.\n",
    "losses = []\n",
    "accuracies = []\n",
    "epochs = []\n",
    "\n",
    "# Initialize and train the MLP.\n",
    "mlp = MLP()\n",
    "for epoch in range(500):\n",
    "    epochs.append(epoch)\n",
    "\n",
    "    # Buffer to calculate loss and accuracy for each epoch.\n",
    "    loss_buffer = 0\n",
    "    accuracy_buffer = 0\n",
    "    \n",
    "    # Training loop.\n",
    "    for (x,y) in train_dataset:\n",
    "        \n",
    "        # We have to reshape the input to get 2D input.\n",
    "        # By using -1 for the batch size, TF will automatically get the right\n",
    "        # batch size that is fitting our input dimension.\n",
    "        x = tf.reshape(x, shape=(-1,2))\n",
    "        # Starting gradient tape and feeding data to the network.\n",
    "        with tf.GradientTape() as tape:\n",
    "            output = mlp(x)\n",
    "            loss = mse(y, output)\n",
    "            gradients = tape.gradient(loss, mlp.trainable_variables)\n",
    "        \n",
    "        # After the tape recording we apply the gradients to the variables.\n",
    "        optimizer.apply_gradients(zip(gradients, mlp.trainable_variables))\n",
    "\n",
    "        # Store performance in buffer.\n",
    "        accuracy_buffer += int(float(output>=0.5) == y)\n",
    "        loss_buffer += loss\n",
    "\n",
    "    # monitoring the training process\n",
    "    if (epoch+1) % 100 == 0:\n",
    "        print(f\"Epoch {epoch+1}/500, Loss: {loss_buffer}, Accuracy: {accuracy_buffer/4}\")\n",
    "\n",
    "    # Appending the losses and accuracies to their lists (adivided by 4 so x and y are in same shape for plotting)\n",
    "    losses.append(loss_buffer)\n",
    "    accuracies.append(accuracy_buffer/4)\n",
    "#######################"
   ]
  },
  {
   "cell_type": "markdown",
   "metadata": {
    "colab_type": "text",
    "id": "uuvojm9AYiKT"
   },
   "source": [
    "### Visualize the training progress."
   ]
  },
  {
   "cell_type": "code",
   "execution_count": 6,
   "metadata": {
    "colab": {},
    "colab_type": "code",
    "id": "9I6MQcoLYiKT"
   },
   "outputs": [],
   "source": [
    "import matplotlib.pyplot as plt"
   ]
  },
  {
   "cell_type": "code",
   "execution_count": 7,
   "metadata": {
    "colab": {
     "base_uri": "https://localhost:8080/",
     "height": 279
    },
    "colab_type": "code",
    "id": "pInr5Ie9YiKX",
    "outputId": "9e64c3f6-df6c-4b71-a245-8ebb7fc7a9d9"
   },
   "outputs": [
    {
     "data": {
      "image/png": "[encoded data removed]",
      "text/plain": [
       "<Figure size 640x480 with 1 Axes>"
      ]
     },
     "metadata": {},
     "output_type": "display_data"
    },
    {
     "data": {
      "image/png": "[encoded data removed]",
      "text/plain": [
       "<Figure size 640x480 with 1 Axes>"
      ]
     },
     "metadata": {},
     "output_type": "display_data"
    }
   ],
   "source": [
    "### YOUR CODE HERE ###\n",
    "# Plotting our training progress.\n",
    "plt.figure()\n",
    "plt.plot(epochs, losses)\n",
    "plt.xlabel(\"Training Steps\")\n",
    "plt.ylabel(\"Loss\")\n",
    "plt.show()\n",
    "\n",
    "plt.figure()\n",
    "plt.plot(epochs, accuracies)\n",
    "plt.xlabel(\"Training Steps\")\n",
    "plt.ylabel(\"Accuracy\")\n",
    "plt.show()\n",
    "######################"
   ]
  }
 ],
 "metadata": {
  "colab": {
   "collapsed_sections": [],
   "name": "G08_H04_{not done}.ipynb",
   "provenance": []
  },
  "kernelspec": {
   "display_name": "Python 3 (ipykernel)",
   "language": "python",
   "name": "python3"
  },
  "language_info": {
   "codemirror_mode": {
    "name": "ipython",
    "version": 3
   },
   "file_extension": ".py",
   "mimetype": "text/x-python",
   "name": "python",
   "nbconvert_exporter": "python",
   "pygments_lexer": "ipython3",
   "version": "3.11.4"
  }
 },
 "nbformat": 4,
 "nbformat_minor": 4
}
